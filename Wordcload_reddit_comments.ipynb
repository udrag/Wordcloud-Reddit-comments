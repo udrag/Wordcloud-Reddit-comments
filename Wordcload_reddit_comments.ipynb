{
 "cells": [
  {
   "metadata": {},
   "cell_type": "markdown",
   "source": "# Text Analysis using Wordcloud",
   "id": "f8f31047fcae7474"
  },
  {
   "metadata": {},
   "cell_type": "code",
   "source": [
    "# Import relevant libraries\n",
    "import pandas as pd\n",
    "\n",
    "from sumy.parsers.plaintext import PlaintextParser\n",
    "from sumy.nlp.tokenizers import Tokenizer\n",
    "from sumy.summarizers.lsa import LsaSummarizer\n",
    "\n",
    "from wordcloud import WordCloud, STOPWORDS, ImageColorGenerator  # stopwords are added if user requires them\n",
    "\n",
    "import praw\n",
    "from praw.models import MoreComments\n",
    "\n",
    "import matplotlib.pyplot as plt\n",
    "%matplotlib inline"
   ],
   "id": "a1854d634b94369b",
   "outputs": [],
   "execution_count": null
  },
  {
   "metadata": {},
   "cell_type": "code",
   "source": [
    "# read the personal data from files and assign it to relevant variables\n",
    "with open('YOUR FILE PATH', 'r') as f:\n",
    "    pw, client_id, secret, username = f.read().splitlines()    \n",
    "    \n",
    "# configuring praw\n",
    "reddit = praw.Reddit(\n",
    "    client_id=client_id,\n",
    "    client_secret=secret,\n",
    "    password=pw,\n",
    "    user_agent=\"FirstBotapp 1.1\",\n",
    "    username=username\n",
    ")"
   ],
   "id": "3365082749c046cb",
   "outputs": [],
   "execution_count": null
  },
  {
   "cell_type": "code",
   "id": "initial_id",
   "metadata": {
    "collapsed": true,
    "ExecuteTime": {
     "end_time": "2024-05-22T16:53:59.694978Z",
     "start_time": "2024-05-22T16:53:59.689368Z"
    }
   },
   "source": [
    "def wordcloud_generator(summarize=True, no_phrases=1):\n",
    "    \"\"\"\n",
    "    This function will extract and parse all (or most) of the comments belonging to a single Reddit submission.\n",
    "    The function will input the user to provide a Reddit submission link to extract all the comments.\n",
    "    If summarize is true, the reddit comments will be summarized into number of phrase specified, by default 1.\n",
    "    Finally, a wordcloud will be generated based on the text gathered from the Reddit submission.\n",
    "    \"\"\"\n",
    "\n",
    "    url = str(input('Please enter the url.')).lower()\n",
    "    submission = reddit.submission(url=url)  # obtain a submission object\n",
    "    submission.comments.replace_more(limit=None)  # returns a list of all the top-level comments, followed by second-level, third-level, etc\n",
    "    text = ' '.join(comment.body for comment in submission.comments.list())  # concatenate comment bodies directly\n",
    "    \n",
    "    if summarize:\n",
    "        parser = PlaintextParser.from_string(text, Tokenizer(\"english\"))\n",
    "        summarizer = LsaSummarizer()\n",
    "        summary = summarizer(parser.document, no_phrases)\n",
    "        \n",
    "        wordcloud = WordCloud(background_color=None, mode=\"RGBA\", min_word_length=3).generate(summary)\n",
    "   \n",
    "    else: # Without summarization\n",
    "        wordcloud = WordCloud(background_color=None, mode=\"RGBA\", min_word_length=3).generate(text)\n",
    "    plt.figure(figsize=(15, 10))\n",
    "    plt.imshow(wordcloud, interpolation=\"bilinear\")\n",
    "    plt.axis(\"off\")\n",
    "    plt.show()"
   ],
   "outputs": [],
   "execution_count": 12
  },
  {
   "metadata": {},
   "cell_type": "code",
   "source": [
    "# call the function\n",
    "wordcloud_generator(summarize=True, no_phrases=5)  # will ask for the Reddit url"
   ],
   "id": "4356930226869619",
   "outputs": [],
   "execution_count": null
  }
 ],
 "metadata": {
  "kernelspec": {
   "display_name": "Python 3",
   "language": "python",
   "name": "python3"
  },
  "language_info": {
   "codemirror_mode": {
    "name": "ipython",
    "version": 2
   },
   "file_extension": ".py",
   "mimetype": "text/x-python",
   "name": "python",
   "nbconvert_exporter": "python",
   "pygments_lexer": "ipython2",
   "version": "2.7.6"
  }
 },
 "nbformat": 4,
 "nbformat_minor": 5
}
